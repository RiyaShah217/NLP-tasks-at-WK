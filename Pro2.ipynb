{
 "cells": [
  {
   "cell_type": "code",
   "execution_count": 1,
   "id": "11b06504",
   "metadata": {},
   "outputs": [
    {
     "name": "stdout",
     "output_type": "stream",
     "text": [
      "Requirement already satisfied: rank_bm25 in c:\\users\\riya.shah\\anaconda3\\lib\\site-packages (0.2.2)\n",
      "Requirement already satisfied: numpy in c:\\users\\riya.shah\\anaconda3\\lib\\site-packages (from rank_bm25) (1.21.5)\n",
      "Note: you may need to restart the kernel to use updated packages.\n"
     ]
    }
   ],
   "source": [
    "pip install rank_bm25"
   ]
  },
  {
   "cell_type": "code",
   "execution_count": 15,
   "id": "fc0f362a",
   "metadata": {},
   "outputs": [],
   "source": [
    "from rank_bm25 import BM25Okapi\n",
    "\n",
    "corpus =\"The present study is a history of the DEWEY Decimal Classification.The first edition of the DDC was published in 1876, the eighteenth edition in 1971, and future editions will continue to appear as needed.  In spite of the DDC's long and healthy life, however, its full story has never been told.  There have been biographies of Dewey that briefly describe his system, but this is the first attempt to provide a detailed history of the work that more than any other has spurred the growth of librarianship in this country and abroad\"\n",
    "\n",
    "tokenized_corpus = [doc.split(\" \") for doc in corpus]\n",
    "\n",
    "bm25 = BM25Okapi(tokenized_corpus)\n",
    "# <rank_bm25.BM25Okapi at 0x1047881d0>"
   ]
  },
  {
   "cell_type": "code",
   "execution_count": 9,
   "id": "d871693d",
   "metadata": {},
   "outputs": [],
   "source": [
    "from nltk.tokenize import sent_tokenize, word_tokenize"
   ]
  },
  {
   "cell_type": "code",
   "execution_count": 16,
   "id": "f73b30ac",
   "metadata": {},
   "outputs": [
    {
     "name": "stdout",
     "output_type": "stream",
     "text": [
      "Tokenized sentences:  ['The present study is a history of the DEWEY Decimal Classification.The first edition of the DDC was published in 1876, the eighteenth edition in 1971, and future editions will continue to appear as needed.', \"In spite of the DDC's long and healthy life, however, its full story has never been told.\", 'There have been biographies of Dewey that briefly describe his system, but this is the first attempt to provide a detailed history of the work that more than any other has spurred the growth of librarianship in this country and abroad']\n"
     ]
    }
   ],
   "source": [
    "nltk_sentences=sent_tokenize(corpus)\n",
    "print(\"Tokenized sentences: \", nltk_sentences)"
   ]
  },
  {
   "cell_type": "code",
   "execution_count": 17,
   "id": "c757c7f6",
   "metadata": {},
   "outputs": [
    {
     "name": "stdout",
     "output_type": "stream",
     "text": [
      "Tokenized words:  ['The', 'present', 'study', 'is', 'a', 'history', 'of', 'the', 'DEWEY', 'Decimal', 'Classification.The', 'first', 'edition', 'of', 'the', 'DDC', 'was', 'published', 'in', '1876', ',', 'the', 'eighteenth', 'edition', 'in', '1971', ',', 'and', 'future', 'editions', 'will', 'continue', 'to', 'appear', 'as', 'needed', '.', 'In', 'spite', 'of', 'the', 'DDC', \"'s\", 'long', 'and', 'healthy', 'life', ',', 'however', ',', 'its', 'full', 'story', 'has', 'never', 'been', 'told', '.', 'There', 'have', 'been', 'biographies', 'of', 'Dewey', 'that', 'briefly', 'describe', 'his', 'system', ',', 'but', 'this', 'is', 'the', 'first', 'attempt', 'to', 'provide', 'a', 'detailed', 'history', 'of', 'the', 'work', 'that', 'more', 'than', 'any', 'other', 'has', 'spurred', 'the', 'growth', 'of', 'librarianship', 'in', 'this', 'country', 'and', 'abroad']\n"
     ]
    }
   ],
   "source": [
    "nltk_words=word_tokenize(corpus)\n",
    "print(\"Tokenized words: \", nltk_words)"
   ]
  },
  {
   "cell_type": "code",
   "execution_count": 18,
   "id": "d9288a05",
   "metadata": {},
   "outputs": [],
   "source": [
    "from bs4 import BeautifulSoup"
   ]
  },
  {
   "cell_type": "code",
   "execution_count": 19,
   "id": "85bfcd07",
   "metadata": {},
   "outputs": [
    {
     "data": {
      "text/plain": [
       "\"The present study is a history of the DEWEY Decimal Classification.The first edition of the DDC was published in 1876, the eighteenth edition in 1971, and future editions will continue to appear as needed.  In spite of the DDC's long and healthy life, however, its full story has never been told.  There have been biographies of Dewey that briefly describe his system, but this is the first attempt to provide a detailed history of the work that more than any other has spurred the growth of librarianship in this country and abroad\""
      ]
     },
     "execution_count": 19,
     "metadata": {},
     "output_type": "execute_result"
    }
   ],
   "source": [
    "BeautifulSoup(corpus).get_text()"
   ]
  },
  {
   "cell_type": "code",
   "execution_count": 20,
   "id": "aa49c165",
   "metadata": {},
   "outputs": [],
   "source": [
    "from nltk.corpus import stopwords"
   ]
  },
  {
   "cell_type": "code",
   "execution_count": 21,
   "id": "e96ec722",
   "metadata": {},
   "outputs": [],
   "source": [
    "stop_words=stopwords.words('english')"
   ]
  },
  {
   "cell_type": "code",
   "execution_count": 23,
   "id": "5debfee9",
   "metadata": {},
   "outputs": [],
   "source": [
    "filtered_review=[word for word in corpus if word not in stop_words]"
   ]
  },
  {
   "cell_type": "code",
   "execution_count": 24,
   "id": "394aa226",
   "metadata": {},
   "outputs": [
    {
     "name": "stdout",
     "output_type": "stream",
     "text": [
      "['T', 'h', 'e', ' ', 'p', 'r', 'e', 'e', 'n', ' ', 'u', ' ', ' ', ' ', 'h', 'r', ' ', 'f', ' ', 'h', 'e', ' ', 'D', 'E', 'W', 'E', 'Y', ' ', 'D', 'e', 'c', 'l', ' ', 'C', 'l', 'f', 'c', 'n', '.', 'T', 'h', 'e', ' ', 'f', 'r', ' ', 'e', 'n', ' ', 'f', ' ', 'h', 'e', ' ', 'D', 'D', 'C', ' ', 'w', ' ', 'p', 'u', 'b', 'l', 'h', 'e', ' ', 'n', ' ', '1', '8', '7', '6', ',', ' ', 'h', 'e', ' ', 'e', 'g', 'h', 'e', 'e', 'n', 'h', ' ', 'e', 'n', ' ', 'n', ' ', '1', '9', '7', '1', ',', ' ', 'n', ' ', 'f', 'u', 'u', 'r', 'e', ' ', 'e', 'n', ' ', 'w', 'l', 'l', ' ', 'c', 'n', 'n', 'u', 'e', ' ', ' ', 'p', 'p', 'e', 'r', ' ', ' ', 'n', 'e', 'e', 'e', '.', ' ', ' ', 'I', 'n', ' ', 'p', 'e', ' ', 'f', ' ', 'h', 'e', ' ', 'D', 'D', 'C', \"'\", ' ', 'l', 'n', 'g', ' ', 'n', ' ', 'h', 'e', 'l', 'h', ' ', 'l', 'f', 'e', ',', ' ', 'h', 'w', 'e', 'v', 'e', 'r', ',', ' ', ' ', 'f', 'u', 'l', 'l', ' ', 'r', ' ', 'h', ' ', 'n', 'e', 'v', 'e', 'r', ' ', 'b', 'e', 'e', 'n', ' ', 'l', '.', ' ', ' ', 'T', 'h', 'e', 'r', 'e', ' ', 'h', 'v', 'e', ' ', 'b', 'e', 'e', 'n', ' ', 'b', 'g', 'r', 'p', 'h', 'e', ' ', 'f', ' ', 'D', 'e', 'w', 'e', ' ', 'h', ' ', 'b', 'r', 'e', 'f', 'l', ' ', 'e', 'c', 'r', 'b', 'e', ' ', 'h', ' ', 'e', ',', ' ', 'b', 'u', ' ', 'h', ' ', ' ', 'h', 'e', ' ', 'f', 'r', ' ', 'e', 'p', ' ', ' ', 'p', 'r', 'v', 'e', ' ', ' ', 'e', 'l', 'e', ' ', 'h', 'r', ' ', 'f', ' ', 'h', 'e', ' ', 'w', 'r', 'k', ' ', 'h', ' ', 'r', 'e', ' ', 'h', 'n', ' ', 'n', ' ', 'h', 'e', 'r', ' ', 'h', ' ', 'p', 'u', 'r', 'r', 'e', ' ', 'h', 'e', ' ', 'g', 'r', 'w', 'h', ' ', 'f', ' ', 'l', 'b', 'r', 'r', 'n', 'h', 'p', ' ', 'n', ' ', 'h', ' ', 'c', 'u', 'n', 'r', ' ', 'n', ' ', 'b', 'r']\n"
     ]
    }
   ],
   "source": [
    "print(filtered_review)"
   ]
  },
  {
   "cell_type": "code",
   "execution_count": 26,
   "id": "5d51e385",
   "metadata": {},
   "outputs": [],
   "source": [
    "query = \"windy London\"\n",
    "tokenized_query = query.split(\" \")\n",
    "\n",
    "doc_scores = bm25.get_scores(tokenized_query)\n",
    "# array([0.        , 0.93729472, 0.        ])"
   ]
  },
  {
   "cell_type": "code",
   "execution_count": 27,
   "id": "415a3f38",
   "metadata": {},
   "outputs": [
    {
     "data": {
      "text/plain": [
       "['d']"
      ]
     },
     "execution_count": 27,
     "metadata": {},
     "output_type": "execute_result"
    }
   ],
   "source": [
    "bm25.get_top_n(tokenized_query, corpus, n=1)\n",
    "# ['It is quite windy in London']"
   ]
  },
  {
   "cell_type": "code",
   "execution_count": null,
   "id": "3a52ca5f",
   "metadata": {},
   "outputs": [],
   "source": []
  }
 ],
 "metadata": {
  "kernelspec": {
   "display_name": "Python 3 (ipykernel)",
   "language": "python",
   "name": "python3"
  },
  "language_info": {
   "codemirror_mode": {
    "name": "ipython",
    "version": 3
   },
   "file_extension": ".py",
   "mimetype": "text/x-python",
   "name": "python",
   "nbconvert_exporter": "python",
   "pygments_lexer": "ipython3",
   "version": "3.9.12"
  }
 },
 "nbformat": 4,
 "nbformat_minor": 5
}
